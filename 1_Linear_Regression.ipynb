{
 "cells": [
  {
   "cell_type": "code",
   "execution_count": 1,
   "id": "38185c6b-b95d-4d5e-8583-4e0835bd9df0",
   "metadata": {},
   "outputs": [],
   "source": [
    "import numpy as np\n",
    "import pandas as pd"
   ]
  },
  {
   "cell_type": "code",
   "execution_count": 22,
   "id": "1713bcfb-e507-4f01-b517-d64e9ace51a7",
   "metadata": {},
   "outputs": [],
   "source": [
    "df = pd.read_csv(r'cars/cars.csv')"
   ]
  },
  {
   "cell_type": "code",
   "execution_count": 23,
   "id": "a0e079b4-bd78-4879-a91b-d0d74547da0d",
   "metadata": {},
   "outputs": [
    {
     "data": {
      "text/html": [
       "<div>\n",
       "<style scoped>\n",
       "    .dataframe tbody tr th:only-of-type {\n",
       "        vertical-align: middle;\n",
       "    }\n",
       "\n",
       "    .dataframe tbody tr th {\n",
       "        vertical-align: top;\n",
       "    }\n",
       "\n",
       "    .dataframe thead th {\n",
       "        text-align: right;\n",
       "    }\n",
       "</style>\n",
       "<table border=\"1\" class=\"dataframe\">\n",
       "  <thead>\n",
       "    <tr style=\"text-align: right;\">\n",
       "      <th></th>\n",
       "      <th>Car</th>\n",
       "      <th>Model</th>\n",
       "      <th>Volume</th>\n",
       "      <th>Weight</th>\n",
       "      <th>CO2</th>\n",
       "    </tr>\n",
       "  </thead>\n",
       "  <tbody>\n",
       "    <tr>\n",
       "      <th>0</th>\n",
       "      <td>Toyoty</td>\n",
       "      <td>Aygo</td>\n",
       "      <td>1000</td>\n",
       "      <td>790</td>\n",
       "      <td>99</td>\n",
       "    </tr>\n",
       "    <tr>\n",
       "      <th>1</th>\n",
       "      <td>Mitsubishi</td>\n",
       "      <td>Space Star</td>\n",
       "      <td>1200</td>\n",
       "      <td>1160</td>\n",
       "      <td>95</td>\n",
       "    </tr>\n",
       "    <tr>\n",
       "      <th>2</th>\n",
       "      <td>Skoda</td>\n",
       "      <td>Citigo</td>\n",
       "      <td>1000</td>\n",
       "      <td>929</td>\n",
       "      <td>95</td>\n",
       "    </tr>\n",
       "    <tr>\n",
       "      <th>3</th>\n",
       "      <td>Fiat</td>\n",
       "      <td>500</td>\n",
       "      <td>900</td>\n",
       "      <td>865</td>\n",
       "      <td>90</td>\n",
       "    </tr>\n",
       "    <tr>\n",
       "      <th>4</th>\n",
       "      <td>Mini</td>\n",
       "      <td>Cooper</td>\n",
       "      <td>1500</td>\n",
       "      <td>1140</td>\n",
       "      <td>105</td>\n",
       "    </tr>\n",
       "  </tbody>\n",
       "</table>\n",
       "</div>"
      ],
      "text/plain": [
       "          Car       Model  Volume  Weight  CO2\n",
       "0      Toyoty        Aygo    1000     790   99\n",
       "1  Mitsubishi  Space Star    1200    1160   95\n",
       "2       Skoda      Citigo    1000     929   95\n",
       "3        Fiat         500     900     865   90\n",
       "4        Mini      Cooper    1500    1140  105"
      ]
     },
     "execution_count": 23,
     "metadata": {},
     "output_type": "execute_result"
    }
   ],
   "source": [
    "df.head()"
   ]
  },
  {
   "cell_type": "code",
   "execution_count": 24,
   "id": "735a109c-b748-4d82-a472-fe9e248702f8",
   "metadata": {},
   "outputs": [],
   "source": [
    "import torch\n",
    "import torch.nn as nn\n",
    "import matplotlib.pyplot as plt"
   ]
  },
  {
   "cell_type": "code",
   "execution_count": 73,
   "id": "a3eff1a9-e4df-44fd-9716-d205440294b3",
   "metadata": {},
   "outputs": [],
   "source": [
    "X = df.Volume\n",
    "Y = df.Weight"
   ]
  },
  {
   "cell_type": "code",
   "execution_count": 75,
   "id": "bd056729-d882-40b9-9d59-0c44858f4684",
   "metadata": {},
   "outputs": [],
   "source": [
    "#create our linear regression model\n",
    "model = nn.Linear(1, 1)\n",
    "#define our loss function (MSE)\n",
    "criterion = nn.L1Loss()\n",
    "#define our optimizer\n",
    "optimizer = torch.optim.SGD(model.parameters(), lr=0.0001)"
   ]
  },
  {
   "cell_type": "code",
   "execution_count": 76,
   "id": "9bc8eb9b-544b-41c7-9e3e-bb9d800bc482",
   "metadata": {},
   "outputs": [],
   "source": [
    "#first we need to convert them to numpy arrays\n",
    "X = X.to_numpy()\n",
    "Y = Y.to_numpy()\n",
    "#need to have correct shape of X and Y.  Number of samples by 1 dimension\n",
    "X = X.reshape(len(df.Volume),1)\n",
    "Y = Y.reshape(len(df.Volume),1)"
   ]
  },
  {
   "cell_type": "code",
   "execution_count": 77,
   "id": "52785d7b-82a6-4a64-8e99-87a103c144ea",
   "metadata": {},
   "outputs": [
    {
     "data": {
      "text/plain": [
       "<matplotlib.collections.PathCollection at 0x1cf57548370>"
      ]
     },
     "execution_count": 77,
     "metadata": {},
     "output_type": "execute_result"
    },
    {
     "data": {
      "image/png": "[encoded data removed]",
      "text/plain": [
       "<Figure size 432x288 with 1 Axes>"
      ]
     },
     "metadata": {
      "needs_background": "light"
     },
     "output_type": "display_data"
    }
   ],
   "source": [
    "plt.scatter(X, Y)"
   ]
  },
  {
   "cell_type": "code",
   "execution_count": 78,
   "id": "baeffd8c-7eaa-4261-88c5-429a3ccf7764",
   "metadata": {},
   "outputs": [],
   "source": [
    "#make numpy arrays into tensors\n",
    "inputs = torch.from_numpy(X.astype(np.float32))\n",
    "targets = torch.from_numpy(Y.astype(np.float32))"
   ]
  },
  {
   "cell_type": "code",
   "execution_count": 79,
   "id": "8615cee5-57c8-4c6d-8ebb-e7e7e12fdbd2",
   "metadata": {},
   "outputs": [
    {
     "name": "stdout",
     "output_type": "stream",
     "text": [
      "Epoch 1/9, Loss:924.9782\n",
      "Epoch 2/9, Loss:665.4102\n",
      "Epoch 3/9, Loss:405.8422\n",
      "Epoch 4/9, Loss:197.2742\n",
      "Epoch 5/9, Loss:158.9595\n",
      "Epoch 6/9, Loss:158.6508\n",
      "Epoch 7/9, Loss:158.3422\n",
      "Epoch 8/9, Loss:158.6132\n",
      "Epoch 9/9, Loss:158.4656\n"
     ]
    }
   ],
   "source": [
    "#train the model\n",
    "epochs = 9\n",
    "losses = []\n",
    "for it in range(epochs):\n",
    "    #zero the parameter gradients\n",
    "    optimizer.zero_grad()\n",
    "    \n",
    "    #forward pass\n",
    "    outputs = model(inputs)\n",
    "    loss = criterion(outputs, targets)\n",
    "    \n",
    "    #put loss into losses array set up above to plot later\n",
    "    losses.append(loss.item())\n",
    "    \n",
    "    #backward and optimize\n",
    "    loss.backward()\n",
    "    optimizer.step()\n",
    "    \n",
    "    print(f'Epoch {it+1}/{epochs}, Loss:{loss.item():.4f}')"
   ]
  },
  {
   "cell_type": "code",
   "execution_count": 80,
   "id": "76f23cfe-7f37-4090-a9d5-9a11de91a24d",
   "metadata": {},
   "outputs": [
    {
     "data": {
      "text/plain": [
       "[<matplotlib.lines.Line2D at 0x1cf57598310>]"
      ]
     },
     "execution_count": 80,
     "metadata": {},
     "output_type": "execute_result"
    },
    {
     "data": {
      "image/png": "[encoded data removed]",
      "text/plain": [
       "<Figure size 432x288 with 1 Axes>"
      ]
     },
     "metadata": {
      "needs_background": "light"
     },
     "output_type": "display_data"
    }
   ],
   "source": [
    "plt.plot(losses)"
   ]
  },
  {
   "cell_type": "code",
   "execution_count": 81,
   "id": "c3e335a9-3498-405b-98c0-482050ec7fde",
   "metadata": {},
   "outputs": [
    {
     "data": {
      "image/png": "[encoded data removed]",
      "text/plain": [
       "<Figure size 432x288 with 1 Axes>"
      ]
     },
     "metadata": {
      "needs_background": "light"
     },
     "output_type": "display_data"
    }
   ],
   "source": [
    "#plot the model\n",
    "predicted = model(inputs).detach().numpy()\n",
    "plt.scatter(X, Y, label=\"Data\")\n",
    "plt.plot(X, predicted, label=\"Line of Best Fit\")\n",
    "plt.legend()\n",
    "plt.show()"
   ]
  },
  {
   "cell_type": "code",
   "execution_count": 82,
   "id": "aa6d75b7-4a73-4357-88d8-29156d253b67",
   "metadata": {},
   "outputs": [
    {
     "name": "stdout",
     "output_type": "stream",
     "text": [
      "[[0.788989]] [0.16314961]\n"
     ]
    }
   ],
   "source": [
    "w = model.weight.data.numpy()\n",
    "b = model.bias.data.numpy()\n",
    "print(w, b)"
   ]
  },
  {
   "cell_type": "code",
   "execution_count": null,
   "id": "12640104-d506-4551-843a-72c3111cb1aa",
   "metadata": {},
   "outputs": [],
   "source": []
  }
 ],
 "metadata": {
  "kernelspec": {
   "display_name": "Python 3 (ipykernel)",
   "language": "python",
   "name": "python3"
  },
  "language_info": {
   "codemirror_mode": {
    "name": "ipython",
    "version": 3
   },
   "file_extension": ".py",
   "mimetype": "text/x-python",
   "name": "python",
   "nbconvert_exporter": "python",
   "pygments_lexer": "ipython3",
   "version": "3.10.2"
  }
 },
 "nbformat": 4,
 "nbformat_minor": 5
}
